{
  "nbformat": 4,
  "nbformat_minor": 0,
  "metadata": {
    "colab": {
      "name": "README.ipynb",
      "provenance": []
    },
    "kernelspec": {
      "name": "python3",
      "display_name": "Python 3"
    }
  },
  "cells": [
    {
      "cell_type": "markdown",
      "metadata": {
        "id": "s9OB8liRpZIE",
        "colab_type": "text"
      },
      "source": [
        "# Cookbook: data_mining_2020\n",
        "\n",
        "![](https://docs.google.com/uc?export=download&id=1j9nh7bwqlXTVogY4FJIE8G5UktU9DAE8)\n",
        "\n",
        "### [@jacoboggleon](https://mx.linkedin.com/in/jacoboggleon)\n",
        "## Recipes\n",
        "  1. [Práctica 0: configurar el entorno de trabajo](https://nbviewer.jupyter.org/github/JacoboGGLeon/data_mining_2020/blob/master/Pr%C3%A1ctica_0.ipynb)\n",
        "  \n",
        "  \n"
      ]
    }
  ]
}